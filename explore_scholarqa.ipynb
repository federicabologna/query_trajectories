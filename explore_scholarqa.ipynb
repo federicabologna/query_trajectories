{
 "cells": [
  {
   "cell_type": "code",
   "execution_count": 1,
   "id": "a5227a67",
   "metadata": {},
   "outputs": [],
   "source": [
    "import os\n",
    "import json\n",
    "import random\n",
    "import pandas as pd\n",
    "import numpy as np\n",
    "import scipy.stats as stats\n",
    "import matplotlib.pyplot as plt\n",
    "from sklearn.metrics import f1_score"
   ]
  },
  {
   "cell_type": "code",
   "execution_count": 2,
   "id": "0b381867",
   "metadata": {},
   "outputs": [],
   "source": [
    "random.seed(42)  # For reproducibility"
   ]
  },
  {
   "cell_type": "code",
   "execution_count": 4,
   "id": "b4f73444",
   "metadata": {},
   "outputs": [],
   "source": [
    "def filter_sample_save(df, path):\n",
    "    \n",
    "    # find users who interacted a few times\n",
    "    user_counts = df['user_id'].value_counts()\n",
    "    users_with_few_interactions = user_counts[user_counts > 2].index\n",
    "    \n",
    "    # sample 100 of these users\n",
    "    sampled_users = random.sample(list(users_with_few_interactions), 100)\n",
    "    \n",
    "    # Filter the DataFrame to include only those users\n",
    "    df_filtered = df[df['user_id'].isin(sampled_users)].copy()\n",
    "    \n",
    "    if 'query_id' in df_filtered.columns:\n",
    "        df_filtered.sort_values(by=['user_id', 'query_id'], inplace=True)\n",
    "    else:\n",
    "        df_filtered.sort_values(by=['user_id'], inplace=True)\n",
    "    df_filtered.to_csv(os.path.join('data', path), index=False)\n",
    "    "
   ]
  },
  {
   "cell_type": "markdown",
   "id": "c9ab4d87",
   "metadata": {},
   "source": [
    "## Open Scholar"
   ]
  },
  {
   "cell_type": "code",
   "execution_count": null,
   "id": "ae4b1bd0",
   "metadata": {},
   "outputs": [],
   "source": [
    "# load Open Scholar data\n",
    "_df = pd.read_csv(os.path.join('data', 'OS_queries_0225.csv'))\n",
    "_df['text'] = [json.loads(r)['text'] for r in _df['response']]\n",
    "_df.drop(columns=['response'], inplace=True)"
   ]
  },
  {
   "cell_type": "code",
   "execution_count": null,
   "id": "ca8bea42",
   "metadata": {},
   "outputs": [],
   "source": [
    "filter_sample_save(_df, 'OS_queries_0225_filtered_sampled.csv')"
   ]
  },
  {
   "cell_type": "markdown",
   "id": "38528a53",
   "metadata": {},
   "source": [
    "## ScholarQA"
   ]
  },
  {
   "cell_type": "code",
   "execution_count": 4,
   "id": "596f2503",
   "metadata": {},
   "outputs": [],
   "source": [
    "with open(os.path.join('data', 'scholarqa_queries_and_answers_0227.jsonl'), 'r', encoding='utf-8') as f:\n",
    "    data = [json.loads(line) for line in f]"
   ]
  },
  {
   "cell_type": "code",
   "execution_count": 5,
   "id": "cfe7561b",
   "metadata": {},
   "outputs": [],
   "source": [
    "new_data = []\n",
    "for item in data:\n",
    "        \n",
    "    answer = ''\n",
    "    for section in item['sections']:\n",
    "        answer += section['text']\n",
    "        \n",
    "    new_item = {\n",
    "        'user_id': item['user_id'],\n",
    "        'query_id': item['query_id'],\n",
    "        'query': item['query'],\n",
    "        'answer': answer,\n",
    "        'feedback': item['feedback'],\n",
    "    }\n",
    "    new_data.append(new_item)"
   ]
  },
  {
   "cell_type": "code",
   "execution_count": 6,
   "id": "6207afbd",
   "metadata": {},
   "outputs": [],
   "source": [
    "# load ScholarQA data\n",
    "_df = pd.DataFrame(new_data)"
   ]
  },
  {
   "cell_type": "code",
   "execution_count": 9,
   "id": "07b2b0f3",
   "metadata": {},
   "outputs": [],
   "source": [
    "with open(os.path.join('data', 'scholarqa_queries_and_answers_0227_flat.jsonl'), 'w', encoding='utf-8') as out_f:\n",
    "    for entry in new_data:\n",
    "        out_f.write(json.dumps(entry, ensure_ascii=False) + '\\n')"
   ]
  },
  {
   "cell_type": "code",
   "execution_count": 7,
   "id": "495aa53f",
   "metadata": {},
   "outputs": [],
   "source": [
    "filter_sample_save(_df, 'scholarqa_queries_and_answers_0227_filtered_sampled.csv')"
   ]
  },
  {
   "cell_type": "markdown",
   "id": "f00bb36b",
   "metadata": {},
   "source": [
    "## Attempt at finding queries with incorrect terminology"
   ]
  },
  {
   "cell_type": "code",
   "execution_count": 27,
   "id": "ad77bf44",
   "metadata": {},
   "outputs": [
    {
     "name": "stdout",
     "output_type": "stream",
     "text": [
      "query: intersection between identity, ideology, and power label: TRUE\n",
      "query: positive education for technostress mitgation  in school education\n",
      " label: TRUE\n",
      "query: What is binder with codex label: TRUE\n",
      "query: in reinforcement leanring, when using actor critic on discrete action space, the actor often learns and gets stuck at a very concetrated softmax distribution and can't recover due to vanishing gradients, how to address that? label: TRUE\n",
      "query: which approach is better for implicit depth deep equilibrium models or universal transformer? label: TRUE\n",
      "query: I'm studying the challenges with long-form writing for blind academics. My background is a PhD in human-computer interaction and I'm primarily a technical HCI researcher who builds systems. Provide me papers and theories about long-form writing and the challenges for blind workers, and systems that are designed to help  label: TRUE\n",
      "query: I'm a researcher trying to understand the process and challenges of long-form writing, like academic articles and non-fiction books. Start this this paper: https://www.semanticscholar.org/paper/A-Cognitive-Process-Theory-of-Writing-Flower-Hayes/c8ff58b5db4cf03fcf2c94b2b825e93ab43bcbcd\n",
      "\n",
      "then, expand your search into a theory about how people write, what works well, what is challenging, and design implications for technical HCI researchers.  label: TRUE\n",
      "query: Are there papers that use simulations like NVIDIA Sionna to develop passive radar capabilities? label: TRUE\n",
      "query: tell me about how pair distribution function can be used to study metal-organic frameworks  label: TRUE\n",
      "query: Are generative approaches better than NLI based approaches for zero shot text classification with encoders? label: TRUE\n",
      "query: Compare OpenAI's o1 text generation to that of other LLMs. Is o1's writing qualitatively different from previous LLMs, and if so how? label: TRUE\n",
      "query: are there any papers that focus on automatically assembling IKEA furniture? label: TRUE\n",
      "query: what is the difference between goal and a need? label: TRUE\n",
      "query: what is the best way to evaluate different ai bots label: TRUE\n",
      "query: top misdiagnosis that causes unnecessary orthopedic surgeries label: TRUE\n",
      "query: For the following tasks in different themes/modalities give examples of exiting research:\n",
      "Modality\n",
      "- Image, Video, and 3D\n",
      "Theme\n",
      "- Acceleration\n",
      "- On-Device Deployment\n",
      "Task\n",
      "- Training\n",
      "- Inference\n",
      "-- Generation\n",
      "-- Editing\n",
      "- Finetuning label: TRUE\n"
     ]
    }
   ],
   "source": [
    "with open(os.path.join('output', 'scholarqa_llm_annotations2.jsonl'), 'r', encoding='utf-8') as f:\n",
    "    for line in f:\n",
    "        d = json.loads(line)\n",
    "        if d['label'] == 'TRUE':\n",
    "            print('query:', d['query'], 'label:', d['label'])"
   ]
  },
  {
   "cell_type": "markdown",
   "id": "043bdf85",
   "metadata": {},
   "source": [
    "## From CSV to JSONL"
   ]
  },
  {
   "cell_type": "code",
   "execution_count": 15,
   "id": "d11aa428",
   "metadata": {},
   "outputs": [
    {
     "name": "stdout",
     "output_type": "stream",
     "text": [
      "64\n"
     ]
    },
    {
     "data": {
      "text/html": [
       "<div>\n",
       "<style scoped>\n",
       "    .dataframe tbody tr th:only-of-type {\n",
       "        vertical-align: middle;\n",
       "    }\n",
       "\n",
       "    .dataframe tbody tr th {\n",
       "        vertical-align: top;\n",
       "    }\n",
       "\n",
       "    .dataframe thead th {\n",
       "        text-align: right;\n",
       "    }\n",
       "</style>\n",
       "<table border=\"1\" class=\"dataframe\">\n",
       "  <thead>\n",
       "    <tr style=\"text-align: right;\">\n",
       "      <th></th>\n",
       "      <th>date</th>\n",
       "      <th>query</th>\n",
       "      <th>other_field</th>\n",
       "      <th>specificity</th>\n",
       "      <th>user_id</th>\n",
       "      <th>text</th>\n",
       "      <th>label</th>\n",
       "      <th>query_id</th>\n",
       "    </tr>\n",
       "  </thead>\n",
       "  <tbody>\n",
       "    <tr>\n",
       "      <th>0</th>\n",
       "      <td>2025-01-10</td>\n",
       "      <td>Using machine learning to predict patients wit...</td>\n",
       "      <td>no</td>\n",
       "      <td>3.0</td>\n",
       "      <td>0165e8ab-ea86-4fc1-aed8-9025fbc25ca4</td>\n",
       "      <td>\\n\\nMachine learning has been widely used in p...</td>\n",
       "      <td>1</td>\n",
       "      <td>os_query_0</td>\n",
       "    </tr>\n",
       "    <tr>\n",
       "      <th>1</th>\n",
       "      <td>2025-01-10</td>\n",
       "      <td>Using machine learning to predict patients wit...</td>\n",
       "      <td>no</td>\n",
       "      <td>4.0</td>\n",
       "      <td>0165e8ab-ea86-4fc1-aed8-9025fbc25ca4</td>\n",
       "      <td>\\nMachine learning algorithms have been increa...</td>\n",
       "      <td>1</td>\n",
       "      <td>os_query_1</td>\n",
       "    </tr>\n",
       "    <tr>\n",
       "      <th>2</th>\n",
       "      <td>2025-01-10</td>\n",
       "      <td>“Cervical intraepithelial neoplasia lesions  v...</td>\n",
       "      <td>no</td>\n",
       "      <td>2.0</td>\n",
       "      <td>0165e8ab-ea86-4fc1-aed8-9025fbc25ca4</td>\n",
       "      <td>\\nCervical intraepithelial neoplasia (CIN) is ...</td>\n",
       "      <td>0</td>\n",
       "      <td>os_query_2</td>\n",
       "    </tr>\n",
       "    <tr>\n",
       "      <th>3</th>\n",
       "      <td>2025-01-10</td>\n",
       "      <td>machine learning  polycystic ovary disease</td>\n",
       "      <td>no</td>\n",
       "      <td>2.0</td>\n",
       "      <td>0165e8ab-ea86-4fc1-aed8-9025fbc25ca4</td>\n",
       "      <td>\\nMachine learning algorithms have shown great...</td>\n",
       "      <td>0</td>\n",
       "      <td>os_query_3</td>\n",
       "    </tr>\n",
       "    <tr>\n",
       "      <th>4</th>\n",
       "      <td>2024-12-22</td>\n",
       "      <td>Design a biological aphid control strategy, kn...</td>\n",
       "      <td>no</td>\n",
       "      <td>4.0</td>\n",
       "      <td>02e875f6-3b68-45a0-b8ca-561a71139f4d</td>\n",
       "      <td>Response: \\n\\nConsidering the information prov...</td>\n",
       "      <td>1</td>\n",
       "      <td>os_query_4</td>\n",
       "    </tr>\n",
       "  </tbody>\n",
       "</table>\n",
       "</div>"
      ],
      "text/plain": [
       "         date                                              query other_field  \\\n",
       "0  2025-01-10  Using machine learning to predict patients wit...          no   \n",
       "1  2025-01-10  Using machine learning to predict patients wit...          no   \n",
       "2  2025-01-10  “Cervical intraepithelial neoplasia lesions  v...          no   \n",
       "3  2025-01-10         machine learning  polycystic ovary disease          no   \n",
       "4  2024-12-22  Design a biological aphid control strategy, kn...          no   \n",
       "\n",
       "   specificity                               user_id  \\\n",
       "0          3.0  0165e8ab-ea86-4fc1-aed8-9025fbc25ca4   \n",
       "1          4.0  0165e8ab-ea86-4fc1-aed8-9025fbc25ca4   \n",
       "2          2.0  0165e8ab-ea86-4fc1-aed8-9025fbc25ca4   \n",
       "3          2.0  0165e8ab-ea86-4fc1-aed8-9025fbc25ca4   \n",
       "4          4.0  02e875f6-3b68-45a0-b8ca-561a71139f4d   \n",
       "\n",
       "                                                text  label    query_id  \n",
       "0  \\n\\nMachine learning has been widely used in p...      1  os_query_0  \n",
       "1  \\nMachine learning algorithms have been increa...      1  os_query_1  \n",
       "2  \\nCervical intraepithelial neoplasia (CIN) is ...      0  os_query_2  \n",
       "3  \\nMachine learning algorithms have shown great...      0  os_query_3  \n",
       "4  Response: \\n\\nConsidering the information prov...      1  os_query_4  "
      ]
     },
     "execution_count": 15,
     "metadata": {},
     "output_type": "execute_result"
    }
   ],
   "source": [
    "os_df = pd.read_csv(os.path.join('data', 'OS_queries_0225_annotated.csv')).dropna()\n",
    "os_df['label'] = os_df['specificity'].replace({3.0: '1', 4.0: '1', 2.0: '0'}).astype(int)\n",
    "os_df['query_id'] = 'os_query_' + os_df.index.astype(str)\n",
    "print(len(os_df))\n",
    "os_df.head()"
   ]
  },
  {
   "cell_type": "code",
   "execution_count": 16,
   "id": "4d5644c3",
   "metadata": {},
   "outputs": [
    {
     "name": "stdout",
     "output_type": "stream",
     "text": [
      "22\n"
     ]
    },
    {
     "data": {
      "text/html": [
       "<div>\n",
       "<style scoped>\n",
       "    .dataframe tbody tr th:only-of-type {\n",
       "        vertical-align: middle;\n",
       "    }\n",
       "\n",
       "    .dataframe tbody tr th {\n",
       "        vertical-align: top;\n",
       "    }\n",
       "\n",
       "    .dataframe thead th {\n",
       "        text-align: right;\n",
       "    }\n",
       "</style>\n",
       "<table border=\"1\" class=\"dataframe\">\n",
       "  <thead>\n",
       "    <tr style=\"text-align: right;\">\n",
       "      <th></th>\n",
       "      <th>user_id</th>\n",
       "      <th>query_id</th>\n",
       "      <th>query</th>\n",
       "      <th>answer</th>\n",
       "      <th>feedback</th>\n",
       "      <th>specificity</th>\n",
       "      <th>label</th>\n",
       "    </tr>\n",
       "  </thead>\n",
       "  <tbody>\n",
       "    <tr>\n",
       "      <th>0</th>\n",
       "      <td>02551141-be85-58c2-880f-e9cb1d0a1d51</td>\n",
       "      <td>sqa_query_0</td>\n",
       "      <td>how does chatgpt handle memory of past convers...</td>\n",
       "      <td>\\nChatGPT's memory system presents an interest...</td>\n",
       "      <td>[]</td>\n",
       "      <td>3.0</td>\n",
       "      <td>1</td>\n",
       "    </tr>\n",
       "    <tr>\n",
       "      <th>1</th>\n",
       "      <td>02551141-be85-58c2-880f-e9cb1d0a1d51</td>\n",
       "      <td>sqa_query_1</td>\n",
       "      <td>deepseek training specs</td>\n",
       "      <td>\\nThe DeepSeek model family began with traditi...</td>\n",
       "      <td>[]</td>\n",
       "      <td>2.0</td>\n",
       "      <td>0</td>\n",
       "    </tr>\n",
       "    <tr>\n",
       "      <th>2</th>\n",
       "      <td>02551141-be85-58c2-880f-e9cb1d0a1d51</td>\n",
       "      <td>sqa_query_2</td>\n",
       "      <td>best techniques on LLM context windows</td>\n",
       "      <td>\\nThe context window of an LLM represents the ...</td>\n",
       "      <td>[]</td>\n",
       "      <td>2.0</td>\n",
       "      <td>0</td>\n",
       "    </tr>\n",
       "    <tr>\n",
       "      <th>3</th>\n",
       "      <td>02931874-e395-5e28-9589-2306ba48f392</td>\n",
       "      <td>sqa_query_3</td>\n",
       "      <td>the three modes of calibration? marginal exce...</td>\n",
       "      <td>\\nIn machine learning and predictive modeling,...</td>\n",
       "      <td>[]</td>\n",
       "      <td>4.0</td>\n",
       "      <td>1</td>\n",
       "    </tr>\n",
       "    <tr>\n",
       "      <th>4</th>\n",
       "      <td>02931874-e395-5e28-9589-2306ba48f392</td>\n",
       "      <td>sqa_query_4</td>\n",
       "      <td>experiment people get better with time in diff...</td>\n",
       "      <td>\\nThe relationship between practice and perfor...</td>\n",
       "      <td>[]</td>\n",
       "      <td>2.0</td>\n",
       "      <td>0</td>\n",
       "    </tr>\n",
       "  </tbody>\n",
       "</table>\n",
       "</div>"
      ],
      "text/plain": [
       "                                user_id     query_id  \\\n",
       "0  02551141-be85-58c2-880f-e9cb1d0a1d51  sqa_query_0   \n",
       "1  02551141-be85-58c2-880f-e9cb1d0a1d51  sqa_query_1   \n",
       "2  02551141-be85-58c2-880f-e9cb1d0a1d51  sqa_query_2   \n",
       "3  02931874-e395-5e28-9589-2306ba48f392  sqa_query_3   \n",
       "4  02931874-e395-5e28-9589-2306ba48f392  sqa_query_4   \n",
       "\n",
       "                                               query  \\\n",
       "0  how does chatgpt handle memory of past convers...   \n",
       "1                            deepseek training specs   \n",
       "2             best techniques on LLM context windows   \n",
       "3   the three modes of calibration? marginal exce...   \n",
       "4  experiment people get better with time in diff...   \n",
       "\n",
       "                                              answer feedback  specificity  \\\n",
       "0  \\nChatGPT's memory system presents an interest...       []          3.0   \n",
       "1  \\nThe DeepSeek model family began with traditi...       []          2.0   \n",
       "2  \\nThe context window of an LLM represents the ...       []          2.0   \n",
       "3  \\nIn machine learning and predictive modeling,...       []          4.0   \n",
       "4  \\nThe relationship between practice and perfor...       []          2.0   \n",
       "\n",
       "   label  \n",
       "0      1  \n",
       "1      0  \n",
       "2      0  \n",
       "3      1  \n",
       "4      0  "
      ]
     },
     "execution_count": 16,
     "metadata": {},
     "output_type": "execute_result"
    }
   ],
   "source": [
    "sqa_df = pd.read_csv(os.path.join('data', 'scholarqa_queries_and_answers_0227_annotated.csv')).drop(columns=['other domain']).dropna()\n",
    "sqa_df['label'] = sqa_df['specificity'].replace({3.0: '1', 4.0: '1', 2.0: '0'}).astype(int)\n",
    "sqa_df['query_id'] = 'sqa_query_' + sqa_df.index.astype(str)\n",
    "print(len(sqa_df))\n",
    "sqa_df.head()"
   ]
  },
  {
   "cell_type": "code",
   "execution_count": 17,
   "id": "d28e62ba",
   "metadata": {},
   "outputs": [
    {
     "name": "stdout",
     "output_type": "stream",
     "text": [
      "86\n"
     ]
    },
    {
     "data": {
      "text/html": [
       "<div>\n",
       "<style scoped>\n",
       "    .dataframe tbody tr th:only-of-type {\n",
       "        vertical-align: middle;\n",
       "    }\n",
       "\n",
       "    .dataframe tbody tr th {\n",
       "        vertical-align: top;\n",
       "    }\n",
       "\n",
       "    .dataframe thead th {\n",
       "        text-align: right;\n",
       "    }\n",
       "</style>\n",
       "<table border=\"1\" class=\"dataframe\">\n",
       "  <thead>\n",
       "    <tr style=\"text-align: right;\">\n",
       "      <th></th>\n",
       "      <th>query_id</th>\n",
       "      <th>query</th>\n",
       "      <th>label</th>\n",
       "    </tr>\n",
       "  </thead>\n",
       "  <tbody>\n",
       "    <tr>\n",
       "      <th>0</th>\n",
       "      <td>os_query_0</td>\n",
       "      <td>Using machine learning to predict patients wit...</td>\n",
       "      <td>1</td>\n",
       "    </tr>\n",
       "    <tr>\n",
       "      <th>1</th>\n",
       "      <td>os_query_1</td>\n",
       "      <td>Using machine learning to predict patients wit...</td>\n",
       "      <td>1</td>\n",
       "    </tr>\n",
       "    <tr>\n",
       "      <th>2</th>\n",
       "      <td>os_query_2</td>\n",
       "      <td>“Cervical intraepithelial neoplasia lesions  v...</td>\n",
       "      <td>0</td>\n",
       "    </tr>\n",
       "    <tr>\n",
       "      <th>3</th>\n",
       "      <td>os_query_3</td>\n",
       "      <td>machine learning  polycystic ovary disease</td>\n",
       "      <td>0</td>\n",
       "    </tr>\n",
       "    <tr>\n",
       "      <th>4</th>\n",
       "      <td>os_query_4</td>\n",
       "      <td>Design a biological aphid control strategy, kn...</td>\n",
       "      <td>1</td>\n",
       "    </tr>\n",
       "    <tr>\n",
       "      <th>...</th>\n",
       "      <td>...</td>\n",
       "      <td>...</td>\n",
       "      <td>...</td>\n",
       "    </tr>\n",
       "    <tr>\n",
       "      <th>81</th>\n",
       "      <td>sqa_query_17</td>\n",
       "      <td>Discuss the role of SHIP1 (Src homology 2 doma...</td>\n",
       "      <td>1</td>\n",
       "    </tr>\n",
       "    <tr>\n",
       "      <th>82</th>\n",
       "      <td>sqa_query_18</td>\n",
       "      <td>why \"self-derived protein scaffold,\" in the co...</td>\n",
       "      <td>1</td>\n",
       "    </tr>\n",
       "    <tr>\n",
       "      <th>83</th>\n",
       "      <td>sqa_query_19</td>\n",
       "      <td>In the context of vaccine development, how do ...</td>\n",
       "      <td>1</td>\n",
       "    </tr>\n",
       "    <tr>\n",
       "      <th>84</th>\n",
       "      <td>sqa_query_20</td>\n",
       "      <td>Why are homomeric proteins considered suitable...</td>\n",
       "      <td>1</td>\n",
       "    </tr>\n",
       "    <tr>\n",
       "      <th>85</th>\n",
       "      <td>sqa_query_35</td>\n",
       "      <td>the social  Impact of moroccan Land Reform Pol...</td>\n",
       "      <td>1</td>\n",
       "    </tr>\n",
       "  </tbody>\n",
       "</table>\n",
       "<p>86 rows × 3 columns</p>\n",
       "</div>"
      ],
      "text/plain": [
       "        query_id                                              query  label\n",
       "0     os_query_0  Using machine learning to predict patients wit...      1\n",
       "1     os_query_1  Using machine learning to predict patients wit...      1\n",
       "2     os_query_2  “Cervical intraepithelial neoplasia lesions  v...      0\n",
       "3     os_query_3         machine learning  polycystic ovary disease      0\n",
       "4     os_query_4  Design a biological aphid control strategy, kn...      1\n",
       "..           ...                                                ...    ...\n",
       "81  sqa_query_17  Discuss the role of SHIP1 (Src homology 2 doma...      1\n",
       "82  sqa_query_18  why \"self-derived protein scaffold,\" in the co...      1\n",
       "83  sqa_query_19  In the context of vaccine development, how do ...      1\n",
       "84  sqa_query_20  Why are homomeric proteins considered suitable...      1\n",
       "85  sqa_query_35  the social  Impact of moroccan Land Reform Pol...      1\n",
       "\n",
       "[86 rows x 3 columns]"
      ]
     },
     "execution_count": 17,
     "metadata": {},
     "output_type": "execute_result"
    }
   ],
   "source": [
    "# Concatenate os_df and sqa_df\n",
    "annotated_df = pd.concat([os_df[['query_id', 'query', 'label']], sqa_df[['query_id', 'query', 'label']]], ignore_index=True)\n",
    "print(len(annotated_df))\n",
    "annotated_df"
   ]
  },
  {
   "cell_type": "code",
   "execution_count": 18,
   "id": "80729238",
   "metadata": {},
   "outputs": [],
   "source": [
    "annotated_df.to_json(os.path.join('data', 'os_sqa_annotated.jsonl'), orient='records', lines=True, force_ascii=False)"
   ]
  },
  {
   "cell_type": "code",
   "execution_count": 6,
   "id": "27cc1040",
   "metadata": {},
   "outputs": [],
   "source": [
    "# df.to_json(os.path.join('data', 'OS_queries_0225_annotated.jsonl'), orient='records', lines=True, force_ascii=False)"
   ]
  },
  {
   "cell_type": "code",
   "execution_count": 21,
   "id": "7d4fb1b6",
   "metadata": {},
   "outputs": [
    {
     "name": "stdout",
     "output_type": "stream",
     "text": [
      "label\n",
      "0    39\n",
      "1    47\n",
      "Name: count, dtype: int64\n"
     ]
    },
    {
     "data": {
      "text/plain": [
       "label\n",
       "0    45.348837\n",
       "1    54.651163\n",
       "Name: count, dtype: float64"
      ]
     },
     "execution_count": 21,
     "metadata": {},
     "output_type": "execute_result"
    }
   ],
   "source": [
    "# calculate prevalence of each label\n",
    "label_counts = annotated_df['label'].value_counts().sort_index()\n",
    "print(label_counts)\n",
    "label_percentages = label_counts / label_counts.sum() * 100\n",
    "label_percentages"
   ]
  },
  {
   "cell_type": "code",
   "execution_count": null,
   "id": "3906cd4a",
   "metadata": {},
   "outputs": [],
   "source": []
  },
  {
   "cell_type": "markdown",
   "id": "caec54d5",
   "metadata": {},
   "source": [
    "## Can LLM do this annotation"
   ]
  },
  {
   "cell_type": "code",
   "execution_count": 22,
   "id": "b8b6ba5f",
   "metadata": {},
   "outputs": [
    {
     "data": {
      "text/plain": [
       "81"
      ]
     },
     "execution_count": 22,
     "metadata": {},
     "output_type": "execute_result"
    }
   ],
   "source": [
    "# Read the JSONL file into a DataFrame\n",
    "jsonl_df = pd.read_json(os.path.join('output', 'openscholar_gpt4-1_specificity2.jsonl'), lines=True)\n",
    "jsonl_df['label'] = jsonl_df['label'].astype(str).replace('Label: ', '', regex=False)\n",
    "jsonl_df.dropna(inplace=True)\n",
    "len(jsonl_df)"
   ]
  },
  {
   "cell_type": "code",
   "execution_count": 23,
   "id": "01fa6b65",
   "metadata": {},
   "outputs": [
    {
     "data": {
      "text/plain": [
       "label\n",
       "1    44\n",
       "0    37\n",
       "Name: count, dtype: int64"
      ]
     },
     "execution_count": 23,
     "metadata": {},
     "output_type": "execute_result"
    }
   ],
   "source": [
    "jsonl_df['label'].value_counts()"
   ]
  },
  {
   "cell_type": "code",
   "execution_count": 15,
   "id": "7e829743",
   "metadata": {},
   "outputs": [
    {
     "data": {
      "text/plain": [
       "59"
      ]
     },
     "execution_count": 15,
     "metadata": {},
     "output_type": "execute_result"
    }
   ],
   "source": [
    "jsonl_df2 = pd.read_json(os.path.join('output', 'openscholar_ollama_specificity.jsonl'), lines=True).dropna()\n",
    "jsonl_df2['label'] = jsonl_df2['label'].astype(str).replace('Label: ', '', regex=False).replace('Label:  ', '', regex=False)\n",
    "jsonl_df2.dropna(inplace=True)\n",
    "len(jsonl_df2)"
   ]
  },
  {
   "cell_type": "code",
   "execution_count": 16,
   "id": "85bc3129",
   "metadata": {},
   "outputs": [
    {
     "data": {
      "text/plain": [
       "label\n",
       "2           38\n",
       "Label: 2    11\n",
       "1            5\n",
       "Label: 1     4\n",
       "3            1\n",
       "Name: count, dtype: int64"
      ]
     },
     "execution_count": 16,
     "metadata": {},
     "output_type": "execute_result"
    }
   ],
   "source": [
    "jsonl_df2['label'].value_counts()"
   ]
  },
  {
   "cell_type": "code",
   "execution_count": 13,
   "id": "16e55a03",
   "metadata": {},
   "outputs": [
    {
     "name": "stdout",
     "output_type": "stream",
     "text": [
      "115\n",
      "115\n",
      "F1 score: 0.73816029143898\n"
     ]
    }
   ],
   "source": [
    "# # Merge with the other DataFrame on 'query_id'\n",
    "merged_df = pd.merge(annotated_df[5:], jsonl_df, on='query_id', suffixes=('_human', '_llm'))\n",
    "print(len(merged_df))\n",
    "\n",
    "merged_df_clean = merged_df.dropna(subset=['label_human', 'label_llm'])\n",
    "print(len(merged_df_clean))\n",
    "\n",
    "merged_df_clean['label_human'] = merged_df_clean['label_human'].astype(int)\n",
    "merged_df_clean['label_llm'] = merged_df_clean['label_llm'].astype(int)\n",
    "\n",
    "# Calculate F1 score\n",
    "f1 = f1_score(merged_df_clean['label_human'], merged_df_clean['label_llm'], average='macro')\n",
    "print(\"F1 score:\", f1)"
   ]
  },
  {
   "cell_type": "code",
   "execution_count": 14,
   "id": "908ebbc5",
   "metadata": {},
   "outputs": [
    {
     "data": {
      "text/html": [
       "<div>\n",
       "<style scoped>\n",
       "    .dataframe tbody tr th:only-of-type {\n",
       "        vertical-align: middle;\n",
       "    }\n",
       "\n",
       "    .dataframe tbody tr th {\n",
       "        vertical-align: top;\n",
       "    }\n",
       "\n",
       "    .dataframe thead th {\n",
       "        text-align: right;\n",
       "    }\n",
       "</style>\n",
       "<table border=\"1\" class=\"dataframe\">\n",
       "  <thead>\n",
       "    <tr style=\"text-align: right;\">\n",
       "      <th></th>\n",
       "      <th>query_id</th>\n",
       "      <th>query_human</th>\n",
       "      <th>label_human</th>\n",
       "      <th>query_llm</th>\n",
       "      <th>label_llm</th>\n",
       "    </tr>\n",
       "  </thead>\n",
       "  <tbody>\n",
       "    <tr>\n",
       "      <th>0</th>\n",
       "      <td>query_5</td>\n",
       "      <td>Mizus persicae and Macrosiphum euphorbiae in b...</td>\n",
       "      <td>0</td>\n",
       "      <td>Mizus persicae and Macrosiphum euphorbiae in b...</td>\n",
       "      <td>1</td>\n",
       "    </tr>\n",
       "    <tr>\n",
       "      <th>1</th>\n",
       "      <td>query_5</td>\n",
       "      <td>Mizus persicae and Macrosiphum euphorbiae in b...</td>\n",
       "      <td>0</td>\n",
       "      <td>human LLM experiment on political ideas</td>\n",
       "      <td>0</td>\n",
       "    </tr>\n",
       "    <tr>\n",
       "      <th>2</th>\n",
       "      <td>query_6</td>\n",
       "      <td>Design a biological aphid control strategy, kn...</td>\n",
       "      <td>1</td>\n",
       "      <td>Design a biological aphid control strategy, kn...</td>\n",
       "      <td>1</td>\n",
       "    </tr>\n",
       "    <tr>\n",
       "      <th>3</th>\n",
       "      <td>query_6</td>\n",
       "      <td>Design a biological aphid control strategy, kn...</td>\n",
       "      <td>1</td>\n",
       "      <td>give me papers related to human LLM collaborat...</td>\n",
       "      <td>1</td>\n",
       "    </tr>\n",
       "    <tr>\n",
       "      <th>4</th>\n",
       "      <td>query_7</td>\n",
       "      <td>radiocommunication capex and opex</td>\n",
       "      <td>0</td>\n",
       "      <td>radiocommunication capex and opex</td>\n",
       "      <td>0</td>\n",
       "    </tr>\n",
       "    <tr>\n",
       "      <th>...</th>\n",
       "      <td>...</td>\n",
       "      <td>...</td>\n",
       "      <td>...</td>\n",
       "      <td>...</td>\n",
       "      <td>...</td>\n",
       "    </tr>\n",
       "    <tr>\n",
       "      <th>110</th>\n",
       "      <td>query_19</td>\n",
       "      <td>In the context of vaccine development, how do ...</td>\n",
       "      <td>1</td>\n",
       "      <td>In the context of vaccine development, how do ...</td>\n",
       "      <td>1</td>\n",
       "    </tr>\n",
       "    <tr>\n",
       "      <th>111</th>\n",
       "      <td>query_20</td>\n",
       "      <td>Why are homomeric proteins considered suitable...</td>\n",
       "      <td>1</td>\n",
       "      <td>Can you let me know the latest research trend ...</td>\n",
       "      <td>0</td>\n",
       "    </tr>\n",
       "    <tr>\n",
       "      <th>112</th>\n",
       "      <td>query_20</td>\n",
       "      <td>Why are homomeric proteins considered suitable...</td>\n",
       "      <td>1</td>\n",
       "      <td>Why are homomeric proteins considered suitable...</td>\n",
       "      <td>1</td>\n",
       "    </tr>\n",
       "    <tr>\n",
       "      <th>113</th>\n",
       "      <td>query_35</td>\n",
       "      <td>the social  Impact of moroccan Land Reform Pol...</td>\n",
       "      <td>1</td>\n",
       "      <td>how to detect out of distribution samples</td>\n",
       "      <td>0</td>\n",
       "    </tr>\n",
       "    <tr>\n",
       "      <th>114</th>\n",
       "      <td>query_35</td>\n",
       "      <td>the social  Impact of moroccan Land Reform Pol...</td>\n",
       "      <td>1</td>\n",
       "      <td>the social  Impact of moroccan Land Reform Pol...</td>\n",
       "      <td>1</td>\n",
       "    </tr>\n",
       "  </tbody>\n",
       "</table>\n",
       "<p>115 rows × 5 columns</p>\n",
       "</div>"
      ],
      "text/plain": [
       "     query_id                                        query_human  label_human  \\\n",
       "0     query_5  Mizus persicae and Macrosiphum euphorbiae in b...            0   \n",
       "1     query_5  Mizus persicae and Macrosiphum euphorbiae in b...            0   \n",
       "2     query_6  Design a biological aphid control strategy, kn...            1   \n",
       "3     query_6  Design a biological aphid control strategy, kn...            1   \n",
       "4     query_7                  radiocommunication capex and opex            0   \n",
       "..        ...                                                ...          ...   \n",
       "110  query_19  In the context of vaccine development, how do ...            1   \n",
       "111  query_20  Why are homomeric proteins considered suitable...            1   \n",
       "112  query_20  Why are homomeric proteins considered suitable...            1   \n",
       "113  query_35  the social  Impact of moroccan Land Reform Pol...            1   \n",
       "114  query_35  the social  Impact of moroccan Land Reform Pol...            1   \n",
       "\n",
       "                                             query_llm  label_llm  \n",
       "0    Mizus persicae and Macrosiphum euphorbiae in b...          1  \n",
       "1              human LLM experiment on political ideas          0  \n",
       "2    Design a biological aphid control strategy, kn...          1  \n",
       "3    give me papers related to human LLM collaborat...          1  \n",
       "4                    radiocommunication capex and opex          0  \n",
       "..                                                 ...        ...  \n",
       "110  In the context of vaccine development, how do ...          1  \n",
       "111  Can you let me know the latest research trend ...          0  \n",
       "112  Why are homomeric proteins considered suitable...          1  \n",
       "113          how to detect out of distribution samples          0  \n",
       "114  the social  Impact of moroccan Land Reform Pol...          1  \n",
       "\n",
       "[115 rows x 5 columns]"
      ]
     },
     "execution_count": 14,
     "metadata": {},
     "output_type": "execute_result"
    }
   ],
   "source": [
    "merged_df_clean"
   ]
  },
  {
   "cell_type": "code",
   "execution_count": null,
   "id": "54a4a687",
   "metadata": {},
   "outputs": [],
   "source": [
    "len"
   ]
  },
  {
   "cell_type": "code",
   "execution_count": 25,
   "id": "2b5c7da7",
   "metadata": {},
   "outputs": [
    {
     "name": "stdout",
     "output_type": "stream",
     "text": [
      "              precision    recall  f1-score   support\n",
      "\n",
      "           0       0.84      0.84      0.84        37\n",
      "           1       0.86      0.86      0.86        44\n",
      "\n",
      "    accuracy                           0.85        81\n",
      "   macro avg       0.85      0.85      0.85        81\n",
      "weighted avg       0.85      0.85      0.85        81\n",
      "\n"
     ]
    }
   ],
   "source": [
    "from sklearn.metrics import classification_report\n",
    "\n",
    "print(classification_report(annotated_df[5:]['label'].astype(str), jsonl_df['label'].astype(str)))"
   ]
  },
  {
   "cell_type": "code",
   "execution_count": null,
   "id": "d40e25f1",
   "metadata": {},
   "outputs": [],
   "source": [
    "from sklearn.metrics import accuracy_score, precision_score, recall_score, f1_score, confusion_matrix\n",
    "\n",
    "y_true = merged_df_clean['label_human']\n",
    "y_pred = merged_df_clean['label_llm']\n",
    "\n",
    "metrics = {\n",
    "    'accuracy': accuracy_score(y_true, y_pred),\n",
    "    'macro_precision': precision_score(y_true, y_pred, average='macro'),\n",
    "    'macro_recall': recall_score(y_true, y_pred, average='macro'),\n",
    "    'macro_f1': f1_score(y_true, y_pred, average='macro'),\n",
    "}\n",
    "\n",
    "display(pd.DataFrame([metrics]))\n",
    "print(\"\\nConfusion Matrix:\\n\", confusion_matrix(y_true, y_pred))\n"
   ]
  },
  {
   "cell_type": "code",
   "execution_count": null,
   "id": "5d758972",
   "metadata": {},
   "outputs": [],
   "source": []
  },
  {
   "cell_type": "code",
   "execution_count": null,
   "id": "2624d0e6",
   "metadata": {},
   "outputs": [],
   "source": []
  },
  {
   "cell_type": "code",
   "execution_count": null,
   "id": "c7f6a49e",
   "metadata": {},
   "outputs": [],
   "source": []
  },
  {
   "cell_type": "code",
   "execution_count": null,
   "id": "d8c59665",
   "metadata": {},
   "outputs": [],
   "source": []
  },
  {
   "cell_type": "code",
   "execution_count": null,
   "id": "5ae12f45",
   "metadata": {},
   "outputs": [],
   "source": []
  }
 ],
 "metadata": {
  "kernelspec": {
   "display_name": "nlp25",
   "language": "python",
   "name": "python3"
  },
  "language_info": {
   "codemirror_mode": {
    "name": "ipython",
    "version": 3
   },
   "file_extension": ".py",
   "mimetype": "text/x-python",
   "name": "python",
   "nbconvert_exporter": "python",
   "pygments_lexer": "ipython3",
   "version": "3.12.10"
  }
 },
 "nbformat": 4,
 "nbformat_minor": 5
}

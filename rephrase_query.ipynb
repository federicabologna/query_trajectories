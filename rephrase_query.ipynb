{
 "cells": [
  {
   "cell_type": "code",
   "execution_count": 1,
   "id": "0504087a",
   "metadata": {},
   "outputs": [
    {
     "name": "stderr",
     "output_type": "stream",
     "text": [
      "torch not found, custom baseline rerankers will not work.\n"
     ]
    }
   ],
   "source": [
    "#1 Make question worse\n",
    "import os\n",
    "import json\n",
    "import random\n",
    "from helpers.make_query_worse import remove_fraction_function_words\n",
    "from helpers.scholar_qa_pipeline import get_scholar_qa_answer\n",
    "import time\n",
    "import argparse\n",
    "import numpy as np\n",
    "import pandas as pd\n",
    "from openai import OpenAI"
   ]
  },
  {
   "cell_type": "code",
   "execution_count": 2,
   "id": "5e359ec2",
   "metadata": {},
   "outputs": [],
   "source": [
    "with open(os.path.join('data', 'human_answers.json'), 'r') as file:\n",
    "    data = json.load(file)"
   ]
  },
  {
   "cell_type": "code",
   "execution_count": null,
   "id": "4e9e630e",
   "metadata": {},
   "outputs": [],
   "source": [
    "def get_response(_messages, _model='gpt-4.1', _max_tokens=300):\n",
    "\n",
    "    client = OpenAI(\n",
    "        api_key = open(os.path.join('../../PhD/apikeys', 'ai2_openai_key')).read().strip()\n",
    "    )\n",
    "\n",
    "    attempts = 0\n",
    "    max_attempts = 3\n",
    "    response = 'None'\n",
    "\n",
    "    while attempts < max_attempts:\n",
    "        try:\n",
    "            response = client.chat.completions.create(\n",
    "                model= _model,\n",
    "                max_completion_tokens=_max_tokens,\n",
    "                messages = _messages\n",
    "            )\n",
    "            \n",
    "            _answer = response.choices[0].message.content.strip()\n",
    "            print(f'{_answer}')\n",
    "            answer_dict = json.loads(_answer)\n",
    "            break\n",
    "\n",
    "        except Exception as e:\n",
    "            print(f'Error {e}. Sleeping 3 seconds ...')\n",
    "            time.sleep(3)\n",
    "            if attempts == max_attempts-1:\n",
    "                answer_dict = f'Error {e}'\n",
    "\n",
    "        attempts += 1\n",
    "        time.sleep(0.5)\n",
    "\n",
    "    return answer_dict"
   ]
  },
  {
   "cell_type": "code",
   "execution_count": null,
   "id": "20840b95",
   "metadata": {},
   "outputs": [],
   "source": [
    "def remove_clauses(original_query):\n",
    "    \n",
    "    print(f\"Making Question Worse Version 2\")\n",
    "    \n",
    "    system_prompt = '''You are a linguist. Given a question, split the question into clauses and rank them by how important they are for undestanding the question. Then remove the least important clause from the question.\n",
    "\n",
    "Follow these steps:\n",
    "\n",
    "    1. Read the query.\n",
    "    2. Identify the noun phrases in the question.\n",
    "    3. Rank them by importance for understanding the question.\n",
    "    4. Remove the least important noun phrase from the question.\n",
    "    5. Return the ranked clauses and modified question in the following JSON format: [{\"1\": \"most important clause\", \"2\": \"second most important clauses\", \"3\": \"third most important clauses\"}, {\"worse_question\": \"modified question\"}]. Do not provide any additional information or explanations, just the two JSON dictionaries.\n",
    "'''\n",
    "\n",
    "    user_prompt = f'''Original Query:\\n{original_query}\\n\\n\n",
    "\n",
    "JSON Output: {{\"1\": \"\"}}'''\n",
    "\n",
    "    messages = [\n",
    "                    {'role': 'developer', 'content': system_prompt},\n",
    "                    {'role': 'user', 'content': user_prompt}\n",
    "                ]\n",
    "\n",
    "    response = get_response(messages, _model='gpt-4.1', _max_tokens=300)\n",
    "    \n",
    "    return response"
   ]
  },
  {
   "cell_type": "code",
   "execution_count": null,
   "id": "b931b2bc",
   "metadata": {},
   "outputs": [],
   "source": [
    "def remove_noun_phrases(original_query):\n",
    "    \n",
    "    print(f\"Making Question Worse Version 2\")\n",
    "    \n",
    "    system_prompt = '''You are a linguist. Given a question, split the question into noun phrases and rank them by how important they are for undestanding the question. Then remove the least important noun phrase from the question.\n",
    "\n",
    "Follow these steps:\n",
    "\n",
    "    1. Read the query.\n",
    "    2. Identify the noun phrases in the question.\n",
    "    3. Rank them by importance for understanding the question.\n",
    "    4. Remove the least important noun phrase from the question.\n",
    "    5. Return the ranked clauses and modified question in the following JSON format: [{\"1\": \"most important clause\", \"2\": \"second most important clauses\", \"3\": \"third most important clauses\"}, {\"worse_question\": \"modified question\"}]. Do not provide any additional information or explanations, just the two JSON dictionaries.\n",
    "'''\n",
    "\n",
    "    user_prompt = f'''Original Query:\\n{original_query}\\n\\n\n",
    "\n",
    "JSON Output: {{\"1\": \"\"}}'''\n",
    "\n",
    "    messages = [\n",
    "                    {'role': 'developer', 'content': system_prompt},\n",
    "                    {'role': 'user', 'content': user_prompt}\n",
    "                ]\n",
    "\n",
    "    response = get_response(messages, _model='gpt-4.1', _max_tokens=300)\n",
    "    \n",
    "    return response"
   ]
  },
  {
   "cell_type": "code",
   "execution_count": 11,
   "id": "a79b25c2",
   "metadata": {},
   "outputs": [
    {
     "name": "stdout",
     "output_type": "stream",
     "text": [
      "Making Question Worse Version 2\n",
      "{\"1\": \"lipid nanoparticles (LNPs)\", \"2\": \"biomolecular corona\", \"3\": \"various serum proteins and blood components\"}\n",
      "{\"worse_question\": \"What are the key mechanisms for lipid nanoparticles (LNPs) to form biomolecular corona with various serum proteins?\"}\n",
      "Error Extra data: line 2 column 1 (char 116). Sleeping 3 seconds ...\n",
      "{\"1\": \"lipid nanoparticles (LNPs)\", \"2\": \"biomolecular corona\", \"3\": \"various serum proteins and blood components\"}\n",
      "{\"worse_question\": \"What are the key mechanisms for lipid nanoparticles (LNPs) to form biomolecular corona with various serum proteins?\"}\n",
      "Error Extra data: line 2 column 1 (char 116). Sleeping 3 seconds ...\n",
      "{\"1\": \"key mechanisms\", \"2\": \"lipid nanoparticles (LNPs)\", \"3\": \"biomolecular corona\", \"4\": \"various serum proteins\", \"5\": \"blood components\"}\n",
      "{\"worse_question\": \"What are the key mechanisms for lipid nanoparticles (LNPs) to form biomolecular corona with various serum proteins?\"}\n",
      "Error Extra data: line 2 column 1 (char 143). Sleeping 3 seconds ...\n"
     ]
    },
    {
     "ename": "UnboundLocalError",
     "evalue": "cannot access local variable 'answer_dict' where it is not associated with a value",
     "output_type": "error",
     "traceback": [
      "\u001b[31m---------------------------------------------------------------------------\u001b[39m",
      "\u001b[31mUnboundLocalError\u001b[39m                         Traceback (most recent call last)",
      "\u001b[36mCell\u001b[39m\u001b[36m \u001b[39m\u001b[32mIn[11]\u001b[39m\u001b[32m, line 4\u001b[39m\n\u001b[32m      2\u001b[39m query = d[\u001b[33m'\u001b[39m\u001b[33minput\u001b[39m\u001b[33m'\u001b[39m]\n\u001b[32m      3\u001b[39m \u001b[38;5;66;03m# new_query = remove_fraction_function_words(query, fraction=0.7)\u001b[39;00m\n\u001b[32m----> \u001b[39m\u001b[32m4\u001b[39m new_query = \u001b[43mremove_noun_phrases\u001b[49m\u001b[43m(\u001b[49m\u001b[43mquery\u001b[49m\u001b[43m)\u001b[49m\n\u001b[32m      5\u001b[39m \u001b[38;5;28mprint\u001b[39m(\u001b[33mf\u001b[39m\u001b[33m\"\u001b[39m\u001b[33mOriginal Query: \u001b[39m\u001b[38;5;132;01m{\u001b[39;00mquery\u001b[38;5;132;01m}\u001b[39;00m\u001b[33m\"\u001b[39m,\n\u001b[32m      6\u001b[39m       \u001b[33mf\u001b[39m\u001b[33m\"\u001b[39m\u001b[38;5;130;01m\\n\u001b[39;00m\u001b[33mWorse Query: \u001b[39m\u001b[38;5;132;01m{\u001b[39;00mnew_query\u001b[38;5;132;01m}\u001b[39;00m\u001b[33m\"\u001b[39m, \u001b[33m\"\u001b[39m\u001b[38;5;130;01m\\n\u001b[39;00m\u001b[33m\"\u001b[39m)\n",
      "\u001b[36mCell\u001b[39m\u001b[36m \u001b[39m\u001b[32mIn[9]\u001b[39m\u001b[32m, line 28\u001b[39m, in \u001b[36mremove_noun_phrases\u001b[39m\u001b[34m(original_query)\u001b[39m\n\u001b[32m     19\u001b[39m     user_prompt = \u001b[33mf\u001b[39m\u001b[33m'''\u001b[39m\u001b[33mOriginal Query:\u001b[39m\u001b[38;5;130;01m\\n\u001b[39;00m\u001b[38;5;132;01m{\u001b[39;00moriginal_query\u001b[38;5;132;01m}\u001b[39;00m\u001b[38;5;130;01m\\n\u001b[39;00m\u001b[38;5;130;01m\\n\u001b[39;00m\n\u001b[32m     20\u001b[39m \n\u001b[32m     21\u001b[39m \u001b[33mJSON Output: \u001b[39m\u001b[38;5;130;01m{{\u001b[39;00m\u001b[33m\"\u001b[39m\u001b[33m1\u001b[39m\u001b[33m\"\u001b[39m\u001b[33m: \u001b[39m\u001b[33m\"\u001b[39m\u001b[33m\"\u001b[39m\u001b[38;5;130;01m}}\u001b[39;00m\u001b[33m'''\u001b[39m\n\u001b[32m     23\u001b[39m     messages = [\n\u001b[32m     24\u001b[39m                     {\u001b[33m'\u001b[39m\u001b[33mrole\u001b[39m\u001b[33m'\u001b[39m: \u001b[33m'\u001b[39m\u001b[33mdeveloper\u001b[39m\u001b[33m'\u001b[39m, \u001b[33m'\u001b[39m\u001b[33mcontent\u001b[39m\u001b[33m'\u001b[39m: system_prompt},\n\u001b[32m     25\u001b[39m                     {\u001b[33m'\u001b[39m\u001b[33mrole\u001b[39m\u001b[33m'\u001b[39m: \u001b[33m'\u001b[39m\u001b[33muser\u001b[39m\u001b[33m'\u001b[39m, \u001b[33m'\u001b[39m\u001b[33mcontent\u001b[39m\u001b[33m'\u001b[39m: user_prompt}\n\u001b[32m     26\u001b[39m                 ]\n\u001b[32m---> \u001b[39m\u001b[32m28\u001b[39m     response = \u001b[43mget_response\u001b[49m\u001b[43m(\u001b[49m\u001b[43mmessages\u001b[49m\u001b[43m,\u001b[49m\u001b[43m \u001b[49m\u001b[43m_model\u001b[49m\u001b[43m=\u001b[49m\u001b[33;43m'\u001b[39;49m\u001b[33;43mgpt-4.1\u001b[39;49m\u001b[33;43m'\u001b[39;49m\u001b[43m,\u001b[49m\u001b[43m \u001b[49m\u001b[43m_max_tokens\u001b[49m\u001b[43m=\u001b[49m\u001b[32;43m300\u001b[39;49m\u001b[43m)\u001b[49m\n\u001b[32m     30\u001b[39m     \u001b[38;5;28;01mreturn\u001b[39;00m response\n",
      "\u001b[36mCell\u001b[39m\u001b[36m \u001b[39m\u001b[32mIn[3]\u001b[39m\u001b[32m, line 33\u001b[39m, in \u001b[36mget_response\u001b[39m\u001b[34m(_messages, _model, _max_tokens)\u001b[39m\n\u001b[32m     30\u001b[39m     attempts += \u001b[32m1\u001b[39m\n\u001b[32m     31\u001b[39m     time.sleep(\u001b[32m0.5\u001b[39m)\n\u001b[32m---> \u001b[39m\u001b[32m33\u001b[39m \u001b[38;5;28;01mreturn\u001b[39;00m \u001b[43manswer_dict\u001b[49m\n",
      "\u001b[31mUnboundLocalError\u001b[39m: cannot access local variable 'answer_dict' where it is not associated with a value"
     ]
    }
   ],
   "source": [
    "for d in data:\n",
    "    query = d['input']\n",
    "    # new_query = remove_fraction_function_words(query, fraction=0.7)\n",
    "    new_query = remove_noun_phrases(query)\n",
    "    print(f\"Original Query: {query}\",\n",
    "          f\"\\nWorse Query: {new_query}\", \"\\n\")"
   ]
  },
  {
   "cell_type": "code",
   "execution_count": 5,
   "id": "45d1b905",
   "metadata": {},
   "outputs": [
    {
     "data": {
      "text/plain": [
       "dict_keys(['sections', 'cost'])"
      ]
     },
     "execution_count": 5,
     "metadata": {},
     "output_type": "execute_result"
    }
   ],
   "source": [
    "new_answer.keys()"
   ]
  },
  {
   "cell_type": "code",
   "execution_count": 18,
   "id": "dc015c9b",
   "metadata": {},
   "outputs": [
    {
     "data": {
      "text/plain": [
       "{'title': 'Introduction to Biomolecular Corona Formation',\n",
       " 'tldr': 'When lipid nanoparticles (LNPs) enter biological fluids like blood, biomolecules spontaneously adsorb onto their surface forming a \"biomolecular corona.\" This corona fundamentally alters the biological identity and behavior of LNPs, affecting their targeting abilities, cellular interactions, and therapeutic efficacy. (8 sources)',\n",
       " 'text': '\\nUpon administration into the bloodstream, lipid nanoparticles (LNPs) undergo a crucial transformation as they interact with various biological components, particularly serum proteins. This interaction results in the rapid formation of a layer of biomolecules surrounding the nanoparticle, known as the \"biomolecular corona\" or more commonly the \"protein corona\" due to the predominant presence of plasma proteins <Paper corpusId=\"263607931\" paperTitle=\"(Amici et al., 2023)\" isShortName></Paper>. This corona formation is a spontaneous process that occurs through non-covalent interactions between proteins and the LNP surface <Paper corpusId=\"274333034\" paperTitle=\"(Catenacci et al., 2024)\" isShortName></Paper>.\\n\\nThe biomolecular corona fundamentally changes the biological identity of LNPs, creating what can be considered a unique \"identification\" that influences how these nanoparticles are recognized by cell receptors <Paper corpusId=\"261886868\" paperTitle=\"(Debnath et al., 2023)\" isShortName></Paper>. The presence of this corona enveloping the nanoparticle significantly affects how LNPs interact with immune cells and can impact their toxicity profiles and targeting capabilities <Paper corpusId=\"261886868\" paperTitle=\"(Debnath et al., 2023)\" isShortName></Paper>. This transformation is inevitable - research has shown that complete avoidance of protein corona formation is not feasible, even in PEGylated systems designed to minimize protein adsorption <Paper corpusId=\"263607931\" paperTitle=\"(Amici et al., 2023)\" isShortName></Paper> <Paper corpusId=\"3328751\" paperTitle=\"(Pozzi et al., 2014)\" isShortName></Paper>.\\n\\nSeveral mechanisms underlie the formation of the protein corona, including adsorption and alteration processes <Paper corpusId=\"269803646\" paperTitle=\"(Gao et al., 2024)\" isShortName></Paper>. These mechanisms determine which specific proteins attach to the LNP surface and how they are arranged, ultimately affecting the LNP\\'s stability, biodistribution patterns, and tissue tropism <Paper corpusId=\"268239296\" paperTitle=\"(Francia et al., 2024)\" isShortName></Paper>. For instance, studies have shown that after intravenous administration, PEG-lipids with short lipid tails tend to desorb from LNPs, causing a surface structure change that facilitates apolipoprotein E (apoE) adsorption, which in turn affects endosomal escape and therapeutic payload release <Paper corpusId=\"274333034\" paperTitle=\"(Catenacci et al., 2024)\" isShortName></Paper>.\\n\\nDespite significant advances in LNP technology, highlighted by their recent clinical successes, our understanding of how LNPs interact with biological components in complex biofluids remains limited. Current knowledge is almost entirely confined to interactions with apolipoprotein E (apoE), leaving many questions unanswered regarding other potentially important protein-LNP interactions <Paper corpusId=\"269644493\" paperTitle=\"(Simonsen, 2024)\" isShortName></Paper>. The mechanisms through which the biomolecular corona influences tissue- and cell-specific targeting are particularly elusive, largely due to technical challenges in isolating LNPs and their corona from complex biological media <Paper corpusId=\"268239296\" paperTitle=\"(Francia et al., 2024)\" isShortName></Paper>.\\n\\nUnderstanding the protein corona formation process is crucial because it affects many fundamental properties of LNPs, including surface charge, hydrophilicity/hydrophobicity, stability, targeting ability, aggregation tendencies, toxicity, efficacy, and even the transfection efficiency of nucleic acid cargo <Paper corpusId=\"274333034\" paperTitle=\"(Catenacci et al., 2024)\" isShortName></Paper> <Paper corpusId=\"266124357\" paperTitle=\"(Epanchintseva et al., 2023)\" isShortName></Paper>.',\n",
       " 'citations': [{'id': '(Amici et al., 2023)',\n",
       "   'paper': {'corpus_id': 263607931,\n",
       "    'title': 'The Transformative Potential of Lipid Nanoparticle–Protein Corona for Next-Generation Vaccines and Therapeutics',\n",
       "    'year': 2023,\n",
       "    'venue': 'Molecular Pharmaceutics',\n",
       "    'authors': [{'name': 'A. Amici', 'authorId': '145428512'},\n",
       "     {'name': 'D. Pozzi', 'authorId': '4157002'},\n",
       "     {'name': 'C. Marchini', 'authorId': '34968031'},\n",
       "     {'name': 'G. Caracciolo', 'authorId': '3350177'}],\n",
       "    'n_citations': 10},\n",
       "   'snippets': [\"In recent times, novel opportunities have emerged in the realm of bionano interactions, presenting new avenues for the development of targeted NPs. These interactions result in the encapsulation of NPs by biomolecules, leading to the formation of a biomolecular corona, commonly known as the protein corona, due to its predominant enrichment with plasma proteins. Initially, it was observed that the presence of a protein corona on NPs hinders the effectiveness of targeting ligands, 23 thereby impairing the NP's targeting ability. However, it was later recognized that complete avoidance of protein corona formation, even in PEGylated systems, is not feasible. (Pozzi et al., 2014) Consequently, efforts were redirected toward harnessing the protein corona as an inherent targeting moiety, as the proteins acquired from the bloodstream could potentially serve as targeting ligands. (Caracciolo, 2015)\"],\n",
       "   'score': 0.75390625},\n",
       "  {'id': '(Catenacci et al., 2024)',\n",
       "   'paper': {'corpus_id': 274333034,\n",
       "    'title': 'Effect of Lipid Nanoparticle Physico-Chemical Properties and Composition on Their Interaction with the Immune System',\n",
       "    'year': 2024,\n",
       "    'venue': 'Pharmaceutics',\n",
       "    'authors': [{'name': 'L. Catenacci', 'authorId': '8647990'},\n",
       "     {'name': 'Rachele Rossi', 'authorId': '2332669278'},\n",
       "     {'name': 'Francesca Sechi', 'authorId': '2332671434'},\n",
       "     {'name': 'Daniela Buonocore', 'authorId': '2332667423'},\n",
       "     {'name': 'Milena Sorrenti', 'authorId': '2300734433'},\n",
       "     {'name': 'S. Perteghella', 'authorId': '6893629'},\n",
       "     {'name': 'Marco Peviani', 'authorId': '2237966905'},\n",
       "     {'name': 'M. Bonferoni', 'authorId': '6482976'}],\n",
       "    'n_citations': 11},\n",
       "   'snippets': ['When NPs enter the bloodstream, some biomolecules interact with the LNP surface, resulting in their encapsulation and leading to the formation of a corona. This corona is commonly known as protein corona (PC) due to the predominant presence of plasma proteins [38]. The PC formation is a spontaneous process that occurs rapidly thanks to noncovalent interactions between proteins and the LNP surface [119].\\n\\nThe presence of PC influences many properties of LNPs such as surface charge, hydrophilic and hydrophobic characteristics, stability, targeting ability, aggregation phenomena, toxicity, and efficacy, and, when RNA or DNA are loaded in LNPs, the PC affected also their transfection efficiency [120]121]',\n",
       "    '.studies have shown that upon IV administration PEG-lipid with short lipid tails tend to desorb from LNPs, inducing a change in surface structure that allows ApoE adsorption to LNPs, with the formation of a protein corona that affects their endosomal escape and mRNA release. ApoE in blood serum showed specificity for hepatocytes leading to LNP accumulation in the liver as exploited in Onpattro ® formulation.'],\n",
       "   'score': 0.73046875},\n",
       "  {'id': '(Debnath et al., 2023)',\n",
       "   'paper': {'corpus_id': 261886868,\n",
       "    'title': 'Protein Corona Formation on Lipid Nanoparticles Negatively Affects the NLRP3 Inflammasome Activation.',\n",
       "    'year': 2023,\n",
       "    'venue': 'Bioconjugate chemistry',\n",
       "    'authors': [{'name': 'Maharshi Debnath', 'authorId': '1379903312'},\n",
       "     {'name': 'James Forster', 'authorId': '2199350575'},\n",
       "     {'name': 'A. Ramesh', 'authorId': '50997075'},\n",
       "     {'name': 'A. Kulkarni', 'authorId': '2112386269'}],\n",
       "    'n_citations': 21},\n",
       "   'snippets': ['The interaction between lipid nanoparticles (LNPs) and serum proteins, giving rise to a unique identification in the form of the protein corona, has been shown to be associated with novel recognition by cell receptors. The presence of the corona enveloping the nanoparticle strongly affects the interplay with immune cells. The immune responses mediated by protein corona can affect nanoparticle toxicity and targeting capabilities.'],\n",
       "   'score': 0.89013671875},\n",
       "  {'id': '(Pozzi et al., 2014)',\n",
       "   'paper': {'corpus_id': 3328751,\n",
       "    'title': 'Effect of polyethyleneglycol (PEG) chain length on the bio-nano-interactions between PEGylated lipid nanoparticles and biological fluids: from nanostructure to uptake in cancer cells.',\n",
       "    'year': 2014,\n",
       "    'venue': 'Nanoscale',\n",
       "    'authors': [{'name': 'D. Pozzi', 'authorId': '4157002'},\n",
       "     {'name': 'V. Colapicchioni', 'authorId': '5742070'},\n",
       "     {'name': 'G. Caracciolo', 'authorId': '3350177'},\n",
       "     {'name': 'S. Piovesana', 'authorId': '5512129'},\n",
       "     {'name': 'A. Capriotti', 'authorId': '4541854'},\n",
       "     {'name': 'S. Palchetti', 'authorId': '12327506'},\n",
       "     {'name': 'S. De Grossi', 'authorId': '15645526'},\n",
       "     {'name': 'A. Riccioli', 'authorId': '5029678'},\n",
       "     {'name': 'H. Amenitsch', 'authorId': '3231817'},\n",
       "     {'name': 'A. Laganà', 'authorId': '2410047'}],\n",
       "    'n_citations': 483},\n",
       "   'snippets': ['When nanoparticles (NPs) enter a physiological environment, medium components compete for binding to the NP surface leading to formation of a rich protein shell known as the \"protein corona\". Unfortunately, opsonins are also adsorbed. These proteins are immediately recognized by the phagocyte system with rapid clearance of the NPs from the bloodstream. Polyethyleneglycol (PEG) coating of NPs (PEGylation) is the most efficient anti-opsonization strategy. Linear chains of PEG, grafted onto the NP surface, are able to create steric hindrance, resulting in a significant inhibition of protein adsorption and less recognition by macrophages. However, excessive PEGylation can lead to a strong inhibition of cellular uptake and less efficient binding with protein targets, reducing the potential of the delivery system. To reach a compromise in this regard we employed a multi-component (MC) lipid system with uncommon properties of cell uptake and endosomal escape and increasing length of PEG chains. Nano liquid chromatography coupled with tandem mass spectrometry (nanoLC-MS/MS) analysis allowed us to accurately determine the corona composition showing that apolipoproteins are the most abundant class in the corona and that increasing the PEG length reduced the protein adsorption and the liposomal surface affinity for apolipoproteins. Due to the abundance of apolipoproteins, we exploited the \"protein corona effect\" to deliver cationic liposome-human plasma complexes to human prostate cancer PC3 cells that express a high level of scavenger receptor class B type 1 in order to evaluate the cellular uptake efficiency of the systems used. Combining laser scanning confocal microscopy with flow cytometry analysis in PC3 cells we demonstrated that MC-PEG2k is the best compromise between an anti-opsonization strategy and active targeting and could be a promising candidate to treat prostate cancer in vivo.'],\n",
       "   'score': 0.0},\n",
       "  {'id': '(Gao et al., 2024)',\n",
       "   'paper': {'corpus_id': 269803646,\n",
       "    'title': 'Looking back, moving forward: protein corona of lipid nanoparticles.',\n",
       "    'year': 2024,\n",
       "    'venue': 'Journal of materials chemistry. B',\n",
       "    'authors': [{'name': 'Yue Gao', 'authorId': '2290527755'},\n",
       "     {'name': 'Yeqi Huang', 'authorId': '2291690794'},\n",
       "     {'name': 'Chuanyu Ren', 'authorId': '2278493729'},\n",
       "     {'name': 'Peiwen Chou', 'authorId': '2301574718'},\n",
       "     {'name': 'Chuanbin Wu', 'authorId': '2271522111'},\n",
       "     {'name': 'Xin Pan', 'authorId': '2199804358'},\n",
       "     {'name': 'Guilan Quan', 'authorId': '39893637'},\n",
       "     {'name': 'Zhengwei Huang', 'authorId': '47272421'}],\n",
       "    'n_citations': 3},\n",
       "   'snippets': ['The mechanisms underlying PC formation, including the adsorption theory and alteration theory, were introduced to delve into the formation process.'],\n",
       "   'score': 0.8583984375},\n",
       "  {'id': '(Francia et al., 2024)',\n",
       "   'paper': {'corpus_id': 268239296,\n",
       "    'title': 'A magnetic separation method for isolating and characterizing the biomolecular corona of lipid nanoparticles',\n",
       "    'year': 2024,\n",
       "    'venue': 'Proceedings of the National Academy of Sciences of the United States of America',\n",
       "    'authors': [{'name': 'Valentina Francia', 'authorId': '4982593'},\n",
       "     {'name': 'Yao Zhang', 'authorId': '2271846427'},\n",
       "     {'name': 'Miffy Hok Yan Cheng', 'authorId': '2290039517'},\n",
       "     {'name': 'R. Schiffelers', 'authorId': '2266300257'},\n",
       "     {'name': 'Dominik Witzigmann', 'authorId': '2265106001'},\n",
       "     {'name': 'P. Cullis', 'authorId': '2265177282'}],\n",
       "    'n_citations': 16},\n",
       "   'snippets': ['After LNP administration, LNPs interact with biological fluids (i.e., blood), components of which adsorb onto the LNP surface forming a layer of biomolecules termed the \"biomolecular corona (BMC)\" which affects LNP stability, biodistribution, and tissue tropism. The mechanisms by which the BMC influences tissue-and cell-specific targeting remains largely unknown, due to the technical challenges in isolating LNPs and their corona from complex biological media.'],\n",
       "   'score': 0.71630859375},\n",
       "  {'id': '(Simonsen, 2024)',\n",
       "   'paper': {'corpus_id': 269644493,\n",
       "    'title': 'Technical challenges of studying the impact of plasma components on the efficacy of lipid nanoparticles for vaccine and therapeutic applications',\n",
       "    'year': 2024,\n",
       "    'venue': 'Nature Communications',\n",
       "    'authors': [{'name': 'Jens B Simonsen', 'authorId': '2284652598'}],\n",
       "    'n_citations': 3},\n",
       "   'snippets': ['Despite their clinical successes, our understanding of how and which biological components in complex biofluids, including blood, LNPs interact with, and the impact of such interactions on the therapeutic efficacy and toxicity of LNP-based therapeutic products are still sparse and almost entirely limited to interactions with apolipoprotein E (apoE).'],\n",
       "   'score': 0.6181640625},\n",
       "  {'id': '(Epanchintseva et al., 2023)',\n",
       "   'paper': {'corpus_id': 266124357,\n",
       "    'title': 'Fixation and Visualization of Full Protein Corona on Lipid Surface of Composite Nanoconstruction',\n",
       "    'year': 2023,\n",
       "    'venue': 'Nanomaterials',\n",
       "    'authors': [{'name': 'A. Epanchintseva', 'authorId': '49562750'},\n",
       "     {'name': 'Julia E. Poletaeva', 'authorId': '8513276'},\n",
       "     {'name': 'Irina A Bakhno', 'authorId': '2273316872'},\n",
       "     {'name': 'Vladimir V. Belov', 'authorId': '2273342631'},\n",
       "     {'name': 'A. Grigor’eva', 'authorId': '1400978843'},\n",
       "     {'name': 'S. V. Baranova', 'authorId': '2273316436'},\n",
       "     {'name': 'E. Ryabchikova', 'authorId': '2197801994'},\n",
       "     {'name': 'Ilya S. Dovydenko', 'authorId': '13997734'}],\n",
       "    'n_citations': 4},\n",
       "   'snippets': [\"Spontaneous sorption of proteins on the nanoparticles' surface leads to the fact that nanoparticles in biological media are always enveloped by a layer of proteins—the protein corona. Corona proteins affect the properties of nanoparticles and their behavior in a biological environment.\"],\n",
       "   'score': 0.625}],\n",
       " 'table': None}"
      ]
     },
     "execution_count": 18,
     "metadata": {},
     "output_type": "execute_result"
    }
   ],
   "source": [
    "new_answer['sections'][0]"
   ]
  },
  {
   "cell_type": "code",
   "execution_count": null,
   "id": "347cccc5",
   "metadata": {},
   "outputs": [],
   "source": []
  }
 ],
 "metadata": {
  "kernelspec": {
   "display_name": "scholarqa",
   "language": "python",
   "name": "python3"
  },
  "language_info": {
   "codemirror_mode": {
    "name": "ipython",
    "version": 3
   },
   "file_extension": ".py",
   "mimetype": "text/x-python",
   "name": "python",
   "nbconvert_exporter": "python",
   "pygments_lexer": "ipython3",
   "version": "3.11.3"
  }
 },
 "nbformat": 4,
 "nbformat_minor": 5
}
